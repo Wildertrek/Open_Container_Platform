{
 "cells": [
  {
   "cell_type": "markdown",
   "id": "preliminary-linux",
   "metadata": {},
   "source": [
    "### Nvidia\n",
    "\n",
    "https://docs.nvidia.com/datacenter/kubernetes/openshift-on-gpu-install-guide/index.html\n",
    "\n"
   ]
  }
 ],
 "metadata": {
  "kernelspec": {
   "display_name": "Python 3",
   "language": "python",
   "name": "python3"
  },
  "language_info": {
   "codemirror_mode": {
    "name": "ipython",
    "version": 3
   },
   "file_extension": ".py",
   "mimetype": "text/x-python",
   "name": "python",
   "nbconvert_exporter": "python",
   "pygments_lexer": "ipython3",
   "version": "3.7.4"
  }
 },
 "nbformat": 4,
 "nbformat_minor": 5
}
