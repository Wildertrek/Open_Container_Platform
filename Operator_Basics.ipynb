{
 "cells": [
  {
   "cell_type": "markdown",
   "id": "hispanic-tucson",
   "metadata": {},
   "source": [
    "## Operators\n",
    "\n",
    "### references:\n",
    "https://catalog.redhat.com/software/containers/explore\n",
    "https://operatorhub.io/\n",
    "https://operatorframework.io/\n",
    "\n",
    "### What is an operator SDK?\n",
    "\n",
    "This project is a component of the [Operator Framework](https://github.com/operator-framework), an open source toolkit to manage Kubernetes native applications, called Operators, in an effective, automated, and scalable way.\n",
    "\n",
    "https://sdk.operatorframework.io/\n",
    "\n",
    "You can build an operator in [Go](https://golang.org/), [Ansible](https://docs.ansible.com/ansible/latest/user_guide/index.html#getting-started) or [Helm](https://helm.sh/)\n",
    "\n",
    "### What can I do with an Operator SDK?\n",
    "The Operator SDK provides the tools to build, test, and package Operators. Initially, the SDK facilitates the marriage of an application’s business logic (for example, how to scale, upgrade, or backup) with the Kubernetes API to execute those operations. Over time, the SDK can allow engineers to make applications smarter and have the user experience of cloud services. Leading practices and code patterns that are shared across Operators are included in the SDK to help prevent reinventing the wheel.\n",
    "\n",
    "- The Operator SDK is a framework that uses the controller-runtime library to make writing operators easier by providing:\n",
    "\n",
    "- High level APIs and abstractions to write the operational logic more intuitively Tools for scaffolding and code generation to bootstrap a new project fast Extensions to cover common Operator use cases\n",
    "\n",
    "### install the operator-sdk\n",
    "```brew install operator-sdk```\n",
    "\n",
    "\n",
    "\n",
    "\n"
   ]
  }
 ],
 "metadata": {
  "kernelspec": {
   "display_name": "Python 3",
   "language": "python",
   "name": "python3"
  },
  "language_info": {
   "codemirror_mode": {
    "name": "ipython",
    "version": 3
   },
   "file_extension": ".py",
   "mimetype": "text/x-python",
   "name": "python",
   "nbconvert_exporter": "python",
   "pygments_lexer": "ipython3",
   "version": "3.7.4"
  }
 },
 "nbformat": 4,
 "nbformat_minor": 5
}
