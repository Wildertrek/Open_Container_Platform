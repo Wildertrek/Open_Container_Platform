{
 "cells": [
  {
   "cell_type": "markdown",
   "metadata": {},
   "source": [
    "## Introduction to Red Hat OpenShift\n",
    "\n",
    "https://www.openshift.com/try"
   ]
  },
  {
   "cell_type": "markdown",
   "metadata": {},
   "source": [
    "### What is Red Hat OpenShift?\n",
    "\n",
    "<img src=\"https://www.openshift.com/hubfs/images/illustrations/openshift-container-platform-stack_desktop.svg\" align=\"left\" alt=\"openshift-container-platform-stack\" width = \"800\">"
   ]
  },
  {
   "cell_type": "markdown",
   "metadata": {},
   "source": [
    "## Overview\n",
    "\n",
    "Red Hat® OpenShift® is a hybrid cloud, enterprise Kubernetes\n",
    "application platform, trusted by 2,000+ organizations.\n",
    "\n",
    "## WHAT'S INCLUDED\n",
    "Container host and runtime\n",
    "Red Hat OpenShift ships with Red Hat® Enterprise Linux® CoreOS for the Kubernetes master, and supports Red Hat Enterprise Linux for worker nodes. Red Hat OpenShift supports standard Docker and CRI-O runtimes.\n",
    "\n",
    "### Enterprise Kubernetes\n",
    "Red Hat OpenShift includes hundreds of fixes to defect, security, and performance issues for upstream Kubernetes in every release. It is tested with dozens of technologies and is a robust tightly-integrated platform supported over a 9-year lifecycle.\n",
    "\n",
    "### Validated integrations\n",
    "Red Hat OpenShift includes software-defined networking and validates additional common networking solutions. Red Hat OpenShift also validates numerous storage and third-party plug-ins for every release.\n",
    "\n",
    "### Integrated container registry\n",
    "Red Hat OpenShift ships with an integrated, private container registry (installed as part of the Kubernetes cluster or as standalone for greater flexibility). Teams with greater requirements can also use [Red Hat Quay](https://www.openshift.com/products/quay?hsLang=en-us).\n",
    "\n",
    "### Developer workflows\n",
    "Red Hat OpenShift includes streamlined workflows to help teams get to production faster, including built-in Jenkins pipelines and our source-to-image technology to go straight from application code to container. It is also extensible to new frameworks like Istio and Knative.\n",
    "\n",
    "### Easy access to services\n",
    "Red Hat OpenShift helps administrators and support application teams, with service brokers (including direct access to AWS services), validated third-party solutions, and Kubernetes operators through the embedded OperatorHub.\n",
    "\n",
    "[Red Hat Drives Hybrid Cloud Ubiquity with OpenShift Innovation Across Architectures, Applications and Infrastructure]\n",
    "(https://www.redhat.com/en/about/press-releases/red-hat-drives-openshift-innovation-across-architectures-applications-and-infrastructure)\n",
    "\n",
    "https://www.redhat.com/en/resources/forrester-wave-multicloud-container-platform-analyst-material\n",
    "\n",
    "\n",
    "<img src=\"https://www.redhat.com/cms/managed-files/styles/wysiwyg_full_width/s3/unnamed_2.png?itok=WJ5550HV\" align=\"left\" alt=\"forester\" width = \"800\">\n",
    "\n"
   ]
  },
  {
   "cell_type": "code",
   "execution_count": null,
   "metadata": {},
   "outputs": [],
   "source": []
  }
 ],
 "metadata": {
  "kernelspec": {
   "display_name": "Python 3",
   "language": "python",
   "name": "python3"
  },
  "language_info": {
   "codemirror_mode": {
    "name": "ipython",
    "version": 3
   },
   "file_extension": ".py",
   "mimetype": "text/x-python",
   "name": "python",
   "nbconvert_exporter": "python",
   "pygments_lexer": "ipython3",
   "version": "3.7.4"
  }
 },
 "nbformat": 4,
 "nbformat_minor": 4
}
