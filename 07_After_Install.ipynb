{
 "cells": [
  {
   "cell_type": "markdown",
   "metadata": {},
   "source": [
    "## After Installation (Interesting Stuff)\n",
    "\n",
    "Install Open Data Hub as the start of the DataOps Layer\n",
    "https://opendatahub.io/docs/getting-started/quick-installation.html\n",
    "\n",
    "while Open Data Hub is spinning up let's next create a simple web server for our project.\n",
    "\n",
    "1. Let's sign into OpenShift as developer if you aren't already using developer as password\n",
    "2. Let's create a new project called ``` webapp ```\n",
    "3. Let's build from a git repo ``` https://github.com/yenchiah/project-website-template ```\n",
    "3. Click on catalog and instantiate the Apache HTTP Server\n",
    "4. Watch the server spin up and click on the link to the website\n",
    "\n",
    "## Work to Describe Mission of this Open Container Platform for Government\n",
    "\n",
    "Open the GOCP to public-private sector partnership, linking the consortium of academic and industry organizations to enhance the governments coding environment and enable a more agile IT Modernization strategy.\n",
    "\n",
    "## Next up\n",
    "\n",
    "Install/build a DevSecOps layer using\n",
    "https://github.com/RedHatGov/devsecops-workshop-dashboard/tree/develop/tekton/workshop/content\n",
    "\n",
    "Install the NVIDIA GPU Operator for the MLOps Layer\n",
    "https://docs.nvidia.com/datacenter/kubernetes/openshift-on-gpu-install-guide/index.html#openshift-gpu-install-gpu-operator-via-helmv3\n",
    "\n",
    "## Ideas moving forward\n",
    "1. ITC Phase II: Have a fully applied AICMM using the open container platform\n",
    "2. ITC Phase II: Build out shareable use-cases using the open container platform\n",
    "3. ITC Phase II: Develop and maintain a central container repository where government organizations can apply to their mission\n",
    "4. ITVMO: Phase I: Work with Vendors through the newly formed ITVMO to showcase their shareable containers, pods, clusters and provide services to them\n",
    "5. OGP Phase I: Work with OGP to assist with container policy guidance\n",
    "6. CFO: Work with CFO to construct cost models for cloud, hybrid, on-prem costs associated with open container platform\n",
    "7. DevSecOps layer\n",
    "8. NIST Cyber labs apply SWiD tags to the software containers, is the GSA pilot applying the SWiD tags to the containers? Good idea to add them, not added yet. NIST publication: https://csrc.nist.gov/projects/software-identification-swid/guidelines\n",
    "9. Start designing experiments\n",
    "\n",
    "\n"
   ]
  },
  {
   "cell_type": "code",
   "execution_count": null,
   "metadata": {},
   "outputs": [],
   "source": []
  }
 ],
 "metadata": {
  "kernelspec": {
   "display_name": "Python 3",
   "language": "python",
   "name": "python3"
  },
  "language_info": {
   "codemirror_mode": {
    "name": "ipython",
    "version": 3
   },
   "file_extension": ".py",
   "mimetype": "text/x-python",
   "name": "python",
   "nbconvert_exporter": "python",
   "pygments_lexer": "ipython3",
   "version": "3.7.4"
  }
 },
 "nbformat": 4,
 "nbformat_minor": 4
}
