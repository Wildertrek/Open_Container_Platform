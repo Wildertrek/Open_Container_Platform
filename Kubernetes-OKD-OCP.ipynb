{
 "cells": [
  {
   "cell_type": "markdown",
   "id": "stopped-married",
   "metadata": {},
   "source": [
    "## Container Orchestration: Kubernetes vs OKD vs OCP\n",
    "\n",
    "What's right for you and your organization?\n",
    "\n",
    "- [Kubernetes](https://kubernetes.io/) Straight up Kubernetes\n",
    "- [OKD](https://www.okd.io/) Opensource OpenShift\n",
    "- [OCP](https://www.openshift.com/) OpenShift Enterprise\n",
    "- __Managed OpenShift__ each Cloud provider then has their own name for Managed OpenShift\n",
    "\n",
    "\n",
    "Managed OpenShift on:\n",
    "AWS - ROSA\n",
    "Azure - ARO\n",
    "IBM - ROKS\n",
    "GCP - OpenShift Dedicated\n",
    "all the support models are jointly supported (except for the GCP)\n",
    "\n",
    "- \n",
    "\n",
    "\n",
    "\n"
   ]
  }
 ],
 "metadata": {
  "kernelspec": {
   "display_name": "Python 3",
   "language": "python",
   "name": "python3"
  },
  "language_info": {
   "codemirror_mode": {
    "name": "ipython",
    "version": 3
   },
   "file_extension": ".py",
   "mimetype": "text/x-python",
   "name": "python",
   "nbconvert_exporter": "python",
   "pygments_lexer": "ipython3",
   "version": "3.7.4"
  }
 },
 "nbformat": 4,
 "nbformat_minor": 5
}
