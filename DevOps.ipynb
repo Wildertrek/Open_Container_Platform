{
 "cells": [
  {
   "cell_type": "markdown",
   "id": "american-society",
   "metadata": {},
   "source": [
    "## DevOps\n",
    "\n",
    "List of Operators to install for DevOps Layer\n",
    "\n",
    "1. [Code Ready Workspaces](https://catalog.redhat.com/software/operators/detail/5ec53eb778e79e6a879fa26e)\n",
    "\n",
    "as we can see below this operator installs 6 resources:\n",
    "\n",
    "- codeready-cd786c8d-pwbk8\n",
    "- codeready-operator-765d576f95-5g2cb\n",
    "- devfile-registry-7fbf5cc5bf-b555t\n",
    "- keycloak-8498d4445-w4krw\n",
    "- plugin-registry-99c5f49ff-94l2p\n",
    "- postgres-8df7b774-tc9vq\n",
    "\n"
   ]
  },
  {
   "cell_type": "markdown",
   "id": "hydraulic-level",
   "metadata": {},
   "source": [
    "```shell\n",
    "│ openshift-workspaces                        codeready-cd786c8d-pwbk8                                         ●  1/1          0 Running    10.116.0.223    crc-lf65c-… │\n",
    "│ openshift-workspaces                        codeready-operator-765d576f95-5g2cb                              ●  1/1          0 Running    10.116.0.199    crc-lf65c-… │\n",
    "│ openshift-workspaces                        devfile-registry-7fbf5cc5bf-b555t                                ●  1/1          0 Running    10.116.0.220    crc-lf65c-… │\n",
    "│ openshift-workspaces                        keycloak-8498d4445-w4krw                                         ●  1/1          0 Running    10.116.0.219    crc-lf65c-… │\n",
    "│ openshift-workspaces                        plugin-registry-99c5f49ff-94l2p                                  ●  1/1          0 Running    10.116.0.221    crc-lf65c-… │\n",
    "│ openshift-workspaces                        postgres-8df7b774-tc9vq                                          ●  1/1          0 Running    10.116.0.216    crc-lf65c-… │\n",
    "```"
   ]
  },
  {
   "cell_type": "markdown",
   "id": "efficient-penalty",
   "metadata": {},
   "source": [
    "[Code Ready Work-Spaces documentation](https://access.redhat.com/documentation/en-us/red_hat_codeready_workspaces/2.6/)\n",
    "[Code Ready Work-Spaces Operator Github](https://github.com/redhat-developer/codeready-workspaces-operator/)\n",
    "\n"
   ]
  }
 ],
 "metadata": {
  "kernelspec": {
   "display_name": "Python 3",
   "language": "python",
   "name": "python3"
  },
  "language_info": {
   "codemirror_mode": {
    "name": "ipython",
    "version": 3
   },
   "file_extension": ".py",
   "mimetype": "text/x-python",
   "name": "python",
   "nbconvert_exporter": "python",
   "pygments_lexer": "ipython3",
   "version": "3.7.4"
  }
 },
 "nbformat": 4,
 "nbformat_minor": 5
}
