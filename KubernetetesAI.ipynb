{
 "cells": [
  {
   "cell_type": "markdown",
   "id": "earned-smith",
   "metadata": {},
   "source": [
    "## Kubernetes and AI\n",
    "\n",
    "May 4, 2021\n",
    "Virtual Event\n",
    "#k8sAI + #k8sAIday\n",
    "Kubernetes is becoming a common substrate for AI that allows for workloads to be run either in the cloud or in its own data center, and to easily scale. Join us for Kubernetes AI Day to delve deeper into deploying AI at scale using Kubernetes.\n",
    "\n",
    "https://events.linuxfoundation.org/kubernetes-ai-day/\n",
    "\n",
    "\n"
   ]
  }
 ],
 "metadata": {
  "kernelspec": {
   "display_name": "Python 3",
   "language": "python",
   "name": "python3"
  },
  "language_info": {
   "codemirror_mode": {
    "name": "ipython",
    "version": 3
   },
   "file_extension": ".py",
   "mimetype": "text/x-python",
   "name": "python",
   "nbconvert_exporter": "python",
   "pygments_lexer": "ipython3",
   "version": "3.7.4"
  }
 },
 "nbformat": 4,
 "nbformat_minor": 5
}
