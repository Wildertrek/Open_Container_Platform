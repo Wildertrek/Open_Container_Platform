{
 "cells": [
  {
   "cell_type": "markdown",
   "metadata": {},
   "source": [
    "## Installing OCP on AWS\n",
    "\n",
    " - 1.1. [Configuring an AWS account](https://access.redhat.com/documentation/en-us/openshift_container_platform/4.6/html/installing_on_aws/installing-on-aws#installing-aws-account)\n",
    " - 1.1.1.[ Configuring Route 53](https://access.redhat.com/documentation/en-us/openshift_container_platform/4.6/html/installing_on_aws/installing-on-aws#installation-aws-route53_installing-aws-account)\n",
    " - 1.1.2. [AWS account limits](https://access.redhat.com/documentation/en-us/openshift_container_platform/4.6/html/installing_on_aws/installing-on-aws#installation-aws-limits_installing-aws-account)\n",
    " - 1.1.3. [Required AWS permissions](https://access.redhat.com/documentation/en-us/openshift_container_platform/4.6/html/installing_on_aws/installing-on-aws#installation-aws-permissions_installing-aws-account)\n",
    " - 1.1.4. [Creating an IAM user](https://access.redhat.com/documentation/en-us/openshift_container_platform/4.6/html/installing_on_aws/installing-on-aws#installation-aws-iam-user_installing-aws-account)\n",
    " - 1.1.5. [Supported AWS regions](https://access.redhat.com/documentation/en-us/openshift_container_platform/4.6/html/installing_on_aws/installing-on-aws#installation-aws-regions_installing-aws-account)\n",
    " - 1.1.6. [Next steps](https://access.redhat.com/documentation/en-us/openshift_container_platform/4.6/html/installing_on_aws/installing-on-aws#next-steps)\n",
    " \n",
    " \n",
    " \n",
    " - 1.3. [Installing a cluster quickly on AWS](https://access.redhat.com/documentation/en-us/openshift_container_platform/4.6/html/installing_on_aws/installing-on-aws#installing-aws-default)\n",
    " - 1.3.1. [Prerequisites](https://access.redhat.com/documentation/en-us/openshift_container_platform/4.6/html/installing_on_aws/installing-on-aws#prerequisites)\n",
    " - 1.3.2. [Internet and Telemetry access for OpenShift Container Platform](https://access.redhat.com/documentation/en-us/openshift_container_platform/4.6/html/installing_on_aws/installing-on-aws#cluster-entitlements_installing-aws-default)\n",
    " - 1.3.3. [Generating an SSH private key and adding it to the agent](https://access.redhat.com/documentation/en-us/openshift_container_platform/4.6/html/installing_on_aws/installing-on-aws#ssh-agent-using_installing-aws-default)\n",
    " - 1.3.4. [Obtaining the installation program](https://access.redhat.com/documentation/en-us/openshift_container_platform/4.6/html/installing_on_aws/installing-on-aws#installation-obtaining-installer_installing-aws-default)\n",
    " - 1.3.5. [Deploying the cluster](https://access.redhat.com/documentation/en-us/openshift_container_platform/4.6/html/installing_on_aws/installing-on-aws#installation-launching-installer_installing-aws-default)\n",
    " - 1.3.6. [Installing the CLI by downloading the binary](https://access.redhat.com/documentation/en-us/openshift_container_platform/4.6/html/installing_on_aws/installing-on-aws#cli-installing-cli_installing-aws-default)\n",
    " - 1.3.7. [Logging in to the cluster by using the CLI](https://access.redhat.com/documentation/en-us/openshift_container_platform/4.6/html/installing_on_aws/installing-on-aws#cli-logging-in-kubeadmin_installing-aws-default)\n",
    " - 1.3.8. [Logging in to the cluster by using the web console](https://access.redhat.com/documentation/en-us/openshift_container_platform/4.6/html/installing_on_aws/installing-on-aws#logging-in-by-using-the-web-console_installing-aws-default)\n",
    " - 1.3.9. [Next steps](https://access.redhat.com/documentation/en-us/openshift_container_platform/4.6/html/installing_on_aws/installing-on-aws#next-steps-2)\n",
    " \n",
    "- ``` ./openshift-install create cluster --dir=install-configs-aws --log-level=info ```\n",
    "- ``` INFO Time elapsed: 37m15s  ```\n",
    "- ``` ./openshift-install destroy cluster --dir=install-configs-aws --log-level=info ```\n",
    "- ``` INFO Time elapsed: 3m6s ```"
   ]
  },
  {
   "cell_type": "markdown",
   "metadata": {},
   "source": [
    "<img src=\"./images/ocp-aws.png\" align=\"left\" alt=\"CRC image\" width = \"800\">"
   ]
  }
 ],
 "metadata": {
  "kernelspec": {
   "display_name": "Python 3",
   "language": "python",
   "name": "python3"
  },
  "language_info": {
   "codemirror_mode": {
    "name": "ipython",
    "version": 3
   },
   "file_extension": ".py",
   "mimetype": "text/x-python",
   "name": "python",
   "nbconvert_exporter": "python",
   "pygments_lexer": "ipython3",
   "version": "3.7.4"
  }
 },
 "nbformat": 4,
 "nbformat_minor": 4
}
