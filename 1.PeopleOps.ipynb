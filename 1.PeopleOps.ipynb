{
 "cells": [
  {
   "cell_type": "markdown",
   "id": "strange-closure",
   "metadata": {},
   "source": [
    "## PeopleOps\n",
    "\n",
    "### Learning Skills\n",
    "https://learn.openshift.com/?ref=webconsole\n"
   ]
  },
  {
   "cell_type": "code",
   "execution_count": null,
   "id": "suited-process",
   "metadata": {},
   "outputs": [],
   "source": []
  }
 ],
 "metadata": {
  "kernelspec": {
   "display_name": "Python 3",
   "language": "python",
   "name": "python3"
  },
  "language_info": {
   "codemirror_mode": {
    "name": "ipython",
    "version": 3
   },
   "file_extension": ".py",
   "mimetype": "text/x-python",
   "name": "python",
   "nbconvert_exporter": "python",
   "pygments_lexer": "ipython3",
   "version": "3.7.4"
  }
 },
 "nbformat": 4,
 "nbformat_minor": 5
}
