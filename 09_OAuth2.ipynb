{
 "cells": [
  {
   "cell_type": "markdown",
   "id": "respected-passion",
   "metadata": {},
   "source": [
    "## OAuth2\n",
    "\n",
    "- [OAuth.net](https://oauth.net/2/)\n",
    "- [OAuth Wikipedia](https://en.wikipedia.org/wiki/OAuth)\n",
    "- [Adding an identity provider to your clusters](https://docs.openshift.com/container-platform/4.6/authentication/identity_providers/configuring-oidc-identity-provider.html#add-identity-provider_configuring-oidc-identity-provider)\n",
    "\n",
    "\n",
    "<img src=\"images/OAuth2.png\" align=\"left\" alt=\"openshift-container-platform-OAuth2\" width = \"800\">\n",
    "\n",
    "### Working on Google \n",
    "\n",
    "<img src=\"images/Google_Creds_Needed.png\" align=\"left\" alt=\"openshift-container-platform-Google-creds\" width = \"800\">\n",
    "\n",
    "<img src=\"images/OAuth2_YAML.png\" align=\"left\" alt=\"openshift-container-platform-OAuth-YAML\" width = \"800\">"
   ]
  },
  {
   "cell_type": "code",
   "execution_count": null,
   "id": "distinct-performer",
   "metadata": {},
   "outputs": [],
   "source": []
  }
 ],
 "metadata": {
  "kernelspec": {
   "display_name": "Python 3",
   "language": "python",
   "name": "python3"
  },
  "language_info": {
   "codemirror_mode": {
    "name": "ipython",
    "version": 3
   },
   "file_extension": ".py",
   "mimetype": "text/x-python",
   "name": "python",
   "nbconvert_exporter": "python",
   "pygments_lexer": "ipython3",
   "version": "3.7.4"
  }
 },
 "nbformat": 4,
 "nbformat_minor": 5
}
