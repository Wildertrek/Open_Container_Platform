{
 "cells": [
  {
   "cell_type": "markdown",
   "metadata": {},
   "source": [
    "## Installing OCP on Azure\n",
    "\n",
    " - 1.1. [Configuring an Azure account](https://access.redhat.com/documentation/en-us/openshift_container_platform/4.6/html/installing_on_azure/installing-on-azure#installing-azure-account)\n",
    " - 1.1.1. [Azure account limits](https://access.redhat.com/documentation/en-us/openshift_container_platform/4.6/html/installing_on_azure/installing-on-azure#installation-azure-limits_installing-azure-account)\n",
    " - 1.1.2. [Configuring a public DNS zone in Azure](https://access.redhat.com/documentation/en-us/openshift_container_platform/4.6/html/installing_on_azure/installing-on-azure#installation-azure-network-config_installing-azure-account)\n",
    " - 1.1.3. [Increasing Azure account limits](https://access.redhat.com/documentation/en-us/openshift_container_platform/4.6/html/installing_on_azure/installing-on-azure#installation-azure-increasing-limits_installing-azure-account)\n",
    " - 1.1.4. [Required Azure roles](https://access.redhat.com/documentation/en-us/openshift_container_platform/4.6/html/installing_on_azure/installing-on-azure#installation-azure-permissions_installing-azure-account)\n",
    " - 1.1.5. [Creating a service principal](https://access.redhat.com/documentation/en-us/openshift_container_platform/4.6/html/installing_on_azure/installing-on-azure#installation-azure-service-principal_installing-azure-account)\n",
    " - 1.1.6. [Supported Azure regions](https://access.redhat.com/documentation/en-us/openshift_container_platform/4.6/html/installing_on_azure/installing-on-azure#installation-azure-regions_installing-azure-account)\n",
    " - 1.1.7. [Next step](https://access.redhat.com/documentation/en-us/openshift_container_platform/4.6/html/installing_on_azure/installing-on-azure#next-steps)\n",
    "\n",
    "\n",
    " - 1.3. [Installing a cluster quickly on Azure](https://access.redhat.com/documentation/en-us/openshift_container_platform/4.6/html/installing_on_azure/installing-on-azure#installing-azure-default)\n",
    " - 1.3.1. [Prerequisites](https://access.redhat.com/documentation/en-us/openshift_container_platform/4.6/html/installing_on_azure/installing-on-azure#prerequisites)\n",
    " - 1.3.2. [Internet and Telemetry access for OpenShift Container Platform](https://access.redhat.com/documentation/en-us/openshift_container_platform/4.6/html/installing_on_azure/installing-on-azure#cluster-entitlements_installing-azure-default)\n",
    " - 1.3.3. [Generating an SSH private key and adding it to the agent](https://access.redhat.com/documentation/en-us/openshift_container_platform/4.6/html/installing_on_azure/installing-on-azure#ssh-agent-using_installing-azure-default)\n",
    " - 1.3.4. [Obtaining the installation program](https://access.redhat.com/documentation/en-us/openshift_container_platform/4.6/html/installing_on_azure/installing-on-azure#installation-obtaining-installer_installing-azure-default)\n",
    " - 1.3.5. [Deploying the cluster](https://access.redhat.com/documentation/en-us/openshift_container_platform/4.6/html/installing_on_azure/installing-on-azure#installation-launching-installer_installing-azure-default)\n",
    " - 1.3.6. [Installing the CLI by downloading the binary](https://access.redhat.com/documentation/en-us/openshift_container_platform/4.6/html/installing_on_azure/installing-on-azure#cli-installing-cli_installing-azure-default)\n",
    " - 1.3.7. [Logging in to the cluster by using the CLI](https://access.redhat.com/documentation/en-us/openshift_container_platform/4.6/html/installing_on_azure/installing-on-azure#cli-logging-in-kubeadmin_installing-azure-default)\n",
    " - 1.3.8. [Next steps](https://access.redhat.com/documentation/en-us/openshift_container_platform/4.6/html/installing_on_azure/installing-on-azure#next-steps-2)\n",
    " \n",
    "- ``` ./openshift-install create cluster --dir=install-configs-azure --log-level=info ```\n",
    "- ``` INFO Time elapsed: 38m35s                          ```\n",
    "- ``` ./openshift-install destroy cluster --dir=install-configs-azure --log-level=info ```\n",
    "- ``` INFO Time elapsed: 5m49s ```"
   ]
  },
  {
   "cell_type": "markdown",
   "metadata": {},
   "source": [
    "<img src=\"./images/ocp-azure.png\" align=\"left\" alt=\"CRC image\" width = \"800\">"
   ]
  },
  {
   "cell_type": "markdown",
   "metadata": {},
   "source": [
    "```\n",
    "./oc get machines -n openshift-machine-api | grep worker\n",
    "a-2q9wk-worker-eastus1-p5hrk   Running   Standard_D2s_v3   eastus   1      6h2m\n",
    "a-2q9wk-worker-eastus2-s79dc   Running   Standard_D2s_v3   eastus   2      6h2m\n",
    "a-2q9wk-worker-eastus3-p8pr6   Running   Standard_D2s_v3   eastus   3      6h2m\n",
    "\n",
    "./oc get machines -n openshift-machine-api | grep master\n",
    "a-2q9wk-master-0               Running   Standard_D8s_v3   eastus   2      6h25m\n",
    "a-2q9wk-master-1               Running   Standard_D8s_v3   eastus   3      6h25m\n",
    "a-2q9wk-master-2               Running   Standard_D8s_v3   eastus   1      6h25m\n",
    "\n",
    "```\n",
    "\n"
   ]
  },
  {
   "cell_type": "code",
   "execution_count": null,
   "metadata": {},
   "outputs": [],
   "source": []
  }
 ],
 "metadata": {
  "kernelspec": {
   "display_name": "Python 3",
   "language": "python",
   "name": "python3"
  },
  "language_info": {
   "codemirror_mode": {
    "name": "ipython",
    "version": 3
   },
   "file_extension": ".py",
   "mimetype": "text/x-python",
   "name": "python",
   "nbconvert_exporter": "python",
   "pygments_lexer": "ipython3",
   "version": "3.7.4"
  }
 },
 "nbformat": 4,
 "nbformat_minor": 4
}
