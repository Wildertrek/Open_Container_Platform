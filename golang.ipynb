{
 "cells": [
  {
   "cell_type": "markdown",
   "id": "shared-wesley",
   "metadata": {},
   "source": [
    "## Learn golang\n",
    "\n",
    "https://golang.org/doc/tutorial/getting-started\n",
    "\n",
    "```brew install golang```\n"
   ]
  },
  {
   "cell_type": "code",
   "execution_count": 1,
   "id": "molecular-lesbian",
   "metadata": {},
   "outputs": [
    {
     "name": "stdout",
     "output_type": "stream",
     "text": [
      "00_CNCF.ipynb                           DevSecOps.ipynb\n",
      "01_Kubernetes_Overshift_Overview.ipynb  KubernetetesAI.ipynb\n",
      "02_Kubernetes_Components.ipynb          LICENSE\n",
      "03_Install_CRC.ipynb                    MLOps.ipynb\n",
      "04_Install_AWS.ipynb                    OCP_References.ipynb\n",
      "05_Install_Azure.ipynb                  Operator_Basics.ipynb\n",
      "06_Install_GCP.ipynb                    PeopleOps.ipynb\n",
      "07_After_Install.ipynb                  README.md\n",
      "08_Designing_Experiments.ipynb          Untitled.ipynb\n",
      "AIOps.ipynb                             \u001b[34mcode\u001b[m\u001b[m/\n",
      "CloudOps.ipynb                          \u001b[34mimages\u001b[m\u001b[m/\n",
      "DataOps.ipynb\n"
     ]
    }
   ],
   "source": [
    "ls"
   ]
  },
  {
   "cell_type": "code",
   "execution_count": 2,
   "id": "ceramic-discipline",
   "metadata": {},
   "outputs": [
    {
     "name": "stdout",
     "output_type": "stream",
     "text": [
      "/Users/jsr/Documents/GitHub/Open_Container_Platform/code\n"
     ]
    }
   ],
   "source": [
    "cd code"
   ]
  },
  {
   "cell_type": "code",
   "execution_count": 3,
   "id": "smaller-fighter",
   "metadata": {},
   "outputs": [
    {
     "name": "stdout",
     "output_type": "stream",
     "text": [
      "hello.go\n"
     ]
    }
   ],
   "source": [
    "ls"
   ]
  },
  {
   "cell_type": "code",
   "execution_count": 6,
   "id": "backed-adjustment",
   "metadata": {},
   "outputs": [
    {
     "name": "stdout",
     "output_type": "stream",
     "text": [
      "hello.go:5:8: cannot find package \"rsc.io/quote\" in any of:\n",
      "\t/usr/local/Cellar/go/1.15.7_1/libexec/src/rsc.io/quote (from $GOROOT)\n",
      "\t/Users/jsr/go/src/rsc.io/quote (from $GOPATH)\n"
     ]
    }
   ],
   "source": [
    "!go run ."
   ]
  },
  {
   "cell_type": "code",
   "execution_count": 7,
   "id": "bridal-portfolio",
   "metadata": {},
   "outputs": [
    {
     "name": "stdout",
     "output_type": "stream",
     "text": [
      "Go is a tool for managing Go source code.\n",
      "\n",
      "Usage:\n",
      "\n",
      "\tgo <command> [arguments]\n",
      "\n",
      "The commands are:\n",
      "\n",
      "\tbug         start a bug report\n",
      "\tbuild       compile packages and dependencies\n",
      "\tclean       remove object files and cached files\n",
      "\tdoc         show documentation for package or symbol\n",
      "\tenv         print Go environment information\n",
      "\tfix         update packages to use new APIs\n",
      "\tfmt         gofmt (reformat) package sources\n",
      "\tgenerate    generate Go files by processing source\n",
      "\tget         download and install packages and dependencies\n",
      "\tinstall     compile and install packages and dependencies\n",
      "\tlist        list packages or modules\n",
      "\tmod         module maintenance\n",
      "\trun         compile and run Go program\n",
      "\ttest        test packages\n",
      "\ttool        run specified go tool\n",
      "\tversion     print Go version\n",
      "\tvet         report likely mistakes in packages\n",
      "\n",
      "Use \"go help <command>\" for more information about a command.\n",
      "\n",
      "Additional help topics:\n",
      "\n",
      "\tbuildconstraint build constraints\n",
      "\tbuildmode       build modes\n",
      "\tc               calling between Go and C\n",
      "\tcache           build and test caching\n",
      "\tenvironment     environment variables\n",
      "\tfiletype        file types\n",
      "\tgo.mod          the go.mod file\n",
      "\tgopath          GOPATH environment variable\n",
      "\tgopath-get      legacy GOPATH go get\n",
      "\tgoproxy         module proxy protocol\n",
      "\timportpath      import path syntax\n",
      "\tmodules         modules, module versions, and more\n",
      "\tmodule-get      module-aware go get\n",
      "\tmodule-auth     module authentication using go.sum\n",
      "\tmodule-private  module configuration for non-public modules\n",
      "\tpackages        package lists and patterns\n",
      "\ttestflag        testing flags\n",
      "\ttestfunc        testing functions\n",
      "\n",
      "Use \"go help <topic>\" for more information about that topic.\n",
      "\n"
     ]
    }
   ],
   "source": [
    "!go help"
   ]
  },
  {
   "cell_type": "code",
   "execution_count": 8,
   "id": "invalid-orange",
   "metadata": {},
   "outputs": [
    {
     "name": "stdout",
     "output_type": "stream",
     "text": [
      "go: creating new go.mod: module hello\n"
     ]
    }
   ],
   "source": [
    "!go mod init hello"
   ]
  },
  {
   "cell_type": "code",
   "execution_count": 9,
   "id": "sorted-harbor",
   "metadata": {},
   "outputs": [
    {
     "name": "stdout",
     "output_type": "stream",
     "text": [
      "go: finding module for package rsc.io/quote\n",
      "go: found rsc.io/quote in rsc.io/quote v1.5.2\n",
      "Don't communicate by sharing memory, share memory by communicating.\n"
     ]
    }
   ],
   "source": [
    "!go run ."
   ]
  },
  {
   "cell_type": "markdown",
   "id": "blind-sector",
   "metadata": {},
   "source": [
    "### Create a project directory for your project and initialize the project:"
   ]
  },
  {
   "cell_type": "code",
   "execution_count": 10,
   "id": "geological-packing",
   "metadata": {},
   "outputs": [
    {
     "name": "stdout",
     "output_type": "stream",
     "text": [
      "go.mod    go.sum    hello.go\n"
     ]
    }
   ],
   "source": [
    "ls"
   ]
  },
  {
   "cell_type": "code",
   "execution_count": 11,
   "id": "royal-civilian",
   "metadata": {},
   "outputs": [
    {
     "name": "stdout",
     "output_type": "stream",
     "text": [
      "/Users/jsr/Documents/GitHub/Open_Container_Platform\n"
     ]
    }
   ],
   "source": [
    "cd .."
   ]
  },
  {
   "cell_type": "code",
   "execution_count": 12,
   "id": "controlled-roberts",
   "metadata": {},
   "outputs": [
    {
     "name": "stdout",
     "output_type": "stream",
     "text": [
      "00_CNCF.ipynb                           DevSecOps.ipynb\n",
      "01_Kubernetes_Overshift_Overview.ipynb  Helm.ipynb\n",
      "02_Kubernetes_Components.ipynb          KubernetetesAI.ipynb\n",
      "03_Install_CRC.ipynb                    LICENSE\n",
      "04_Install_AWS.ipynb                    MLOps.ipynb\n",
      "05_Install_Azure.ipynb                  OCP_References.ipynb\n",
      "06_Install_GCP.ipynb                    Operator_Basics.ipynb\n",
      "07_After_Install.ipynb                  PeopleOps.ipynb\n",
      "08_Designing_Experiments.ipynb          README.md\n",
      "AIOps.ipynb                             \u001b[34mcode\u001b[m\u001b[m/\n",
      "Ansible.ipynb                           golang.ipynb\n",
      "CloudOps.ipynb                          \u001b[34mimages\u001b[m\u001b[m/\n",
      "DataOps.ipynb\n"
     ]
    }
   ],
   "source": [
    "ls\n"
   ]
  },
  {
   "cell_type": "code",
   "execution_count": 13,
   "id": "structural-catalog",
   "metadata": {},
   "outputs": [],
   "source": [
    "mkdir memcached-operator"
   ]
  },
  {
   "cell_type": "code",
   "execution_count": 14,
   "id": "under-jackson",
   "metadata": {},
   "outputs": [
    {
     "name": "stdout",
     "output_type": "stream",
     "text": [
      "/Users/jsr/Documents/GitHub/Open_Container_Platform/memcached-operator\n"
     ]
    }
   ],
   "source": [
    "cd memcached-operator/"
   ]
  },
  {
   "cell_type": "code",
   "execution_count": 16,
   "id": "spiritual-recruitment",
   "metadata": {},
   "outputs": [
    {
     "name": "stdout",
     "output_type": "stream",
     "text": [
      "Writing scaffold for you to edit...\n",
      "Get controller runtime:\n",
      "$ go get sigs.k8s.io/controller-runtime@v0.7.0\n",
      "go: downloading sigs.k8s.io/controller-runtime v0.7.0\n",
      "go: downloading k8s.io/apimachinery v0.19.2\n",
      "go: downloading k8s.io/client-go v0.19.2\n",
      "go: downloading github.com/prometheus/client_golang v1.7.1\n",
      "go: downloading github.com/gogo/protobuf v1.3.1\n",
      "go: downloading k8s.io/api v0.19.2\n",
      "go: downloading github.com/prometheus/procfs v0.1.3\n",
      "go: downloading k8s.io/klog/v2 v2.2.0\n",
      "go: downloading github.com/prometheus/common v0.10.0\n",
      "go: downloading github.com/go-logr/logr v0.3.0\n",
      "go: downloading golang.org/x/sys v0.0.0-20200622214017-ed371f2e16b4\n",
      "go: downloading github.com/google/uuid v1.1.1\n",
      "go: downloading github.com/googleapis/gnostic v0.5.1\n",
      "go: downloading golang.org/x/time v0.0.0-20200630173020-3af7569d3a1e\n",
      "go: downloading github.com/davecgh/go-spew v1.1.1\n",
      "go: downloading gomodules.xyz/jsonpatch/v2 v2.1.0\n",
      "go: downloading github.com/cespare/xxhash v1.1.0\n",
      "go: downloading k8s.io/apiextensions-apiserver v0.19.2\n",
      "go: downloading github.com/prometheus/client_model v0.2.0\n",
      "go: downloading github.com/cespare/xxhash/v2 v2.1.1\n",
      "go: downloading google.golang.org/protobuf v1.24.0\n",
      "go: downloading github.com/google/gofuzz v1.1.0\n",
      "go: downloading github.com/golang/protobuf v1.4.2\n",
      "go: downloading github.com/golang/groupcache v0.0.0-20191227052852-215e87163ea7\n",
      "go: downloading k8s.io/utils v0.0.0-20200912215256-4140de9c8800\n",
      "go: downloading gopkg.in/yaml.v3 v3.0.0-20200615113413-eeeca48fe776\n",
      "go: downloading golang.org/x/net v0.0.0-20200707034311-ab3426394381\n",
      "go: downloading github.com/google/go-cmp v0.5.2\n",
      "go: downloading k8s.io/component-base v0.19.2\n",
      "go: downloading golang.org/x/oauth2 v0.0.0-20191202225959-858c2ad4c8b6\n",
      "go: downloading k8s.io/kube-openapi v0.0.0-20200805222855-6aeccd4b50c6\n",
      "go: downloading github.com/imdario/mergo v0.3.10\n",
      "go: downloading sigs.k8s.io/structured-merge-diff/v4 v4.0.1\n",
      "go: downloading gopkg.in/inf.v0 v0.9.1\n",
      "go: downloading golang.org/x/crypto v0.0.0-20200622213623-75b288015ac9\n",
      "go: downloading github.com/beorn7/perks v1.0.1\n",
      "go: downloading github.com/hashicorp/golang-lru v0.5.4\n",
      "go: downloading sigs.k8s.io/yaml v1.2.0\n",
      "go: downloading github.com/modern-go/reflect2 v1.0.1\n",
      "go: downloading github.com/evanphx/json-patch v4.9.0+incompatible\n",
      "go: downloading github.com/json-iterator/go v1.1.10\n",
      "go: downloading github.com/modern-go/concurrent v0.0.0-20180306012644-bacd9c7ef1dd\n",
      "go: downloading github.com/spf13/pflag v1.0.5\n",
      "go: downloading google.golang.org/appengine v1.6.6\n",
      "go: downloading github.com/matttproud/golang_protobuf_extensions v1.0.2-0.20181231171920-c182affec369\n",
      "go: downloading gopkg.in/yaml.v2 v2.3.0\n",
      "go: downloading github.com/fsnotify/fsnotify v1.4.9\n",
      "go: downloading github.com/pkg/errors v0.9.1\n",
      "go: downloading golang.org/x/text v0.3.3\n",
      "# crypto/x509\n",
      "ld: warning: ld: warning: object file (/var/folders/wk/6why77bn1kn0l0pkd4vd3zl00000gn/T/go-build019707877/b120/_x001.o) was built for newer OSX version (10.11) than being linked (10.9)object file (/var/folders/wk/6why77bn1kn0l0pkd4vd3zl00000gn/T/go-build019707877/b120/_cgo_main.o) was built for newer OSX version (10.11) than being linked (10.9)\n",
      "\n",
      "ld: warning: object file (/var/folders/wk/6why77bn1kn0l0pkd4vd3zl00000gn/T/go-build019707877/b120/_x002.o) was built for newer OSX version (10.11) than being linked (10.9)\n",
      "Update go.mod:\n",
      "$ go mod tidy\n",
      "go: downloading github.com/onsi/ginkgo v1.14.1\n",
      "go: downloading go.uber.org/zap v1.15.0\n",
      "go: downloading go.uber.org/goleak v1.1.10\n",
      "go: downloading gopkg.in/check.v1 v1.0.0-20190902080502-41f04d3bba15\n",
      "go: downloading github.com/Azure/go-autorest/autorest v0.9.6\n",
      "go: downloading github.com/go-logr/zapr v0.2.0\n",
      "go: downloading github.com/onsi/gomega v1.10.2\n",
      "go: downloading cloud.google.com/go v0.51.0\n",
      "go: downloading github.com/Azure/go-autorest/autorest/adal v0.8.2\n",
      "go: downloading github.com/kr/pretty v0.2.0\n",
      "go: downloading golang.org/x/lint v0.0.0-20191125180803-fdd1cda4f05f\n",
      "go: downloading github.com/Azure/go-autorest/logger v0.1.0\n",
      "go: downloading github.com/kr/text v0.1.0\n",
      "go: downloading github.com/dgrijalva/jwt-go v3.2.0+incompatible\n",
      "go: downloading github.com/Azure/go-autorest/autorest/mocks v0.3.0\n",
      "go: downloading go.uber.org/multierr v1.5.0\n",
      "go: downloading github.com/Azure/go-autorest/tracing v0.5.0\n",
      "go: downloading github.com/Azure/go-autorest/autorest/date v0.2.0\n",
      "go: downloading golang.org/x/tools v0.0.0-20200616133436-c1934b75d054\n",
      "go: downloading golang.org/x/xerrors v0.0.0-20191204190536-9bdfabe68543\n",
      "go: downloading honnef.co/go/tools v0.0.1-2019.2.3\n",
      "go: downloading github.com/stretchr/testify v1.5.1\n",
      "go: downloading go.uber.org/atomic v1.6.0\n",
      "go: downloading go.uber.org/tools v0.0.0-20190618225709-2cfd321de3ee\n",
      "go: downloading github.com/nxadm/tail v1.4.4\n",
      "go: downloading gopkg.in/tomb.v1 v1.0.0-20141024135613-dd632973f1e7\n",
      "go: downloading github.com/pmezard/go-difflib v1.0.0\n",
      "go: downloading github.com/BurntSushi/toml v0.3.1\n",
      "go: downloading golang.org/x/mod v0.3.0\n",
      "Running make:\n",
      "$ make\n",
      "go: creating new go.mod: module tmp\n",
      "Downloading sigs.k8s.io/controller-tools/cmd/controller-gen@v0.4.1\n",
      "go: downloading sigs.k8s.io/controller-tools v0.4.1\n",
      "go: found sigs.k8s.io/controller-tools/cmd/controller-gen in sigs.k8s.io/controller-tools v0.4.1\n",
      "go: downloading github.com/spf13/cobra v1.0.0\n",
      "go: downloading github.com/fatih/color v1.7.0\n",
      "go: downloading k8s.io/apiextensions-apiserver v0.18.2\n",
      "go: downloading k8s.io/apimachinery v0.18.2\n",
      "go: downloading k8s.io/api v0.18.2\n",
      "go: downloading github.com/gobuffalo/flect v0.2.0\n",
      "go: downloading golang.org/x/tools v0.0.0-20200616195046-dc31b401abb5\n",
      "go: downloading github.com/mattn/go-colorable v0.1.2\n",
      "go: downloading github.com/mattn/go-isatty v0.0.8\n",
      "go: downloading gopkg.in/yaml.v2 v2.2.8\n",
      "go: downloading golang.org/x/sys v0.0.0-20191022100944-742c48ecaeb7\n",
      "go: downloading github.com/inconshreveable/mousetrap v1.0.0\n",
      "go: downloading sigs.k8s.io/structured-merge-diff/v3 v3.0.0\n",
      "go: downloading gopkg.in/yaml.v3 v3.0.0-20190905181640-827449938966\n",
      "go: downloading k8s.io/klog v1.0.0\n",
      "go: downloading k8s.io/utils v0.0.0-20200324210504-a9aa75ae1b89\n",
      "go: downloading golang.org/x/net v0.0.0-20200226121028-0de0cce0169b\n",
      "go: downloading github.com/json-iterator/go v1.1.8\n",
      "go: downloading golang.org/x/text v0.3.2\n",
      "go: downloading golang.org/x/mod v0.2.0\n",
      "/Users/jsr/Documents/GitHub/Open_Container_Platform/memcached-operator/bin/controller-gen object:headerFile=\"hack/boilerplate.go.txt\" paths=\"./...\"\n",
      "go fmt ./...\n",
      "go vet ./...\n",
      "go build -o bin/manager main.go\n",
      "Next: define a resource with:\n",
      "$ operator-sdk create api\n"
     ]
    }
   ],
   "source": [
    "!operator-sdk init --domain example.com --repo github.com/example/memcached-operator"
   ]
  },
  {
   "cell_type": "markdown",
   "id": "absent-modeling",
   "metadata": {},
   "source": [
    "### Create a simple Memcached API:"
   ]
  },
  {
   "cell_type": "code",
   "execution_count": 17,
   "id": "fantastic-moderator",
   "metadata": {},
   "outputs": [
    {
     "name": "stdout",
     "output_type": "stream",
     "text": [
      "Writing scaffold for you to edit...\n",
      "api/v1alpha1/memcached_types.go\n",
      "controllers/memcached_controller.go\n",
      "Running make:\n",
      "$ make\n",
      "/Users/jsr/Documents/GitHub/Open_Container_Platform/memcached-operator/bin/controller-gen object:headerFile=\"hack/boilerplate.go.txt\" paths=\"./...\"\n",
      "go fmt ./...\n",
      "go vet ./...\n",
      "go build -o bin/manager main.go\n"
     ]
    }
   ],
   "source": [
    "!operator-sdk create api --group cache --version v1alpha1 --kind Memcached --resource --controller"
   ]
  },
  {
   "cell_type": "markdown",
   "id": "referenced-aerospace",
   "metadata": {},
   "source": [
    "### Use the built-in Makefile targets to build and push your operator. Make sure to define IMG when you call make:"
   ]
  },
  {
   "cell_type": "code",
   "execution_count": 18,
   "id": "polar-intensity",
   "metadata": {},
   "outputs": [
    {
     "name": "stdout",
     "output_type": "stream",
     "text": [
      "zsh:1: parse error near `>'\n",
      "/Users/jsr/Documents/GitHub/Open_Container_Platform/memcached-operator/bin/controller-gen object:headerFile=\"hack/boilerplate.go.txt\" paths=\"./...\"\n",
      "go fmt ./...\n",
      "go vet ./...\n",
      "/Users/jsr/Documents/GitHub/Open_Container_Platform/memcached-operator/bin/controller-gen \"crd:trivialVersions=true,preserveUnknownFields=false\" rbac:roleName=manager-role webhook paths=\"./...\" output:crd:artifacts:config=config/crd/bases\n",
      "mkdir -p /Users/jsr/Documents/GitHub/Open_Container_Platform/memcached-operator/testbin\n",
      "test -f /Users/jsr/Documents/GitHub/Open_Container_Platform/memcached-operator/testbin/setup-envtest.sh || curl -sSLo /Users/jsr/Documents/GitHub/Open_Container_Platform/memcached-operator/testbin/setup-envtest.sh https://raw.githubusercontent.com/kubernetes-sigs/controller-runtime/v0.7.0/hack/setup-envtest.sh\n",
      "source /Users/jsr/Documents/GitHub/Open_Container_Platform/memcached-operator/testbin/setup-envtest.sh; fetch_envtest_tools /Users/jsr/Documents/GitHub/Open_Container_Platform/memcached-operator/testbin; setup_envtest_env /Users/jsr/Documents/GitHub/Open_Container_Platform/memcached-operator/testbin; go test ./... -coverprofile cover.out\n",
      "\u001b[1;33mfetching envtest tools@1.19.2 (into '/Users/jsr/Documents/GitHub/Open_Container_Platform/memcached-operator/testbin')\u001b[0m\n",
      "x bin/\n",
      "x bin/etcd\n",
      "x bin/kubectl\n",
      "x bin/kube-apiserver\n",
      "\u001b[1;33msetting up env vars\u001b[0m\n",
      "?   \tgithub.com/example/memcached-operator\t[no test files]\n",
      "?   \tgithub.com/example/memcached-operator/api/v1alpha1\t[no test files]\n",
      "ok  \tgithub.com/example/memcached-operator/controllers\t8.581s\tcoverage: 0.0% of statements\n",
      "docker build -t  .\n",
      "invalid argument \".\" for \"-t, --tag\" flag: invalid reference format\n",
      "See 'docker build --help'.\n",
      "make: *** [Makefile:95: docker-build] Error 125\n"
     ]
    }
   ],
   "source": [
    "!export USERNAME=<quay-namespace>\n",
    "!export OPERATOR_IMG=\"quay.io/$USERNAME/memcached-operator:v0.0.1\"\n",
    "!make docker-build docker-push IMG=$OPERATOR_IMG"
   ]
  },
  {
   "cell_type": "markdown",
   "id": "supreme-burlington",
   "metadata": {},
   "source": [
    "### OLM deployment\n",
    "\n",
    "Install OLM"
   ]
  },
  {
   "cell_type": "code",
   "execution_count": 19,
   "id": "appreciated-church",
   "metadata": {},
   "outputs": [
    {
     "name": "stdout",
     "output_type": "stream",
     "text": [
      "\u001b[31mFATA\u001b[0m[0000] Failed to install OLM version \"latest\": failed to get Kubernetes config: <nil> \n"
     ]
    }
   ],
   "source": [
    "!operator-sdk olm install"
   ]
  },
  {
   "cell_type": "code",
   "execution_count": 20,
   "id": "jewish-turkish",
   "metadata": {},
   "outputs": [
    {
     "name": "stdout",
     "output_type": "stream",
     "text": [
      "Dockerfile   \u001b[34mapi\u001b[m\u001b[m/         \u001b[34mcontrollers\u001b[m\u001b[m/ go.sum       \u001b[34mtestbin\u001b[m\u001b[m/\n",
      "Makefile     \u001b[34mbin\u001b[m\u001b[m/         cover.out    \u001b[34mhack\u001b[m\u001b[m/\n",
      "PROJECT      \u001b[34mconfig\u001b[m\u001b[m/      go.mod       main.go\n"
     ]
    }
   ],
   "source": [
    "ls"
   ]
  },
  {
   "cell_type": "code",
   "execution_count": null,
   "id": "assisted-tackle",
   "metadata": {},
   "outputs": [],
   "source": []
  }
 ],
 "metadata": {
  "kernelspec": {
   "display_name": "Python 3",
   "language": "python",
   "name": "python3"
  },
  "language_info": {
   "codemirror_mode": {
    "name": "ipython",
    "version": 3
   },
   "file_extension": ".py",
   "mimetype": "text/x-python",
   "name": "python",
   "nbconvert_exporter": "python",
   "pygments_lexer": "ipython3",
   "version": "3.7.4"
  }
 },
 "nbformat": 4,
 "nbformat_minor": 5
}
