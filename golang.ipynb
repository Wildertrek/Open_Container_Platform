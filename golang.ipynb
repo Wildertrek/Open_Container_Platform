{
 "cells": [
  {
   "cell_type": "markdown",
   "id": "banned-assets",
   "metadata": {},
   "source": [
    "## Learn golang\n",
    "\n",
    "https://golang.org/doc/tutorial/getting-started\n",
    "\n",
    "```brew install golang```\n"
   ]
  },
  {
   "cell_type": "code",
   "execution_count": 1,
   "id": "hindu-warren",
   "metadata": {},
   "outputs": [
    {
     "name": "stdout",
     "output_type": "stream",
     "text": [
      "00_CNCF.ipynb                           DevSecOps.ipynb\n",
      "01_Kubernetes_Overshift_Overview.ipynb  KubernetetesAI.ipynb\n",
      "02_Kubernetes_Components.ipynb          LICENSE\n",
      "03_Install_CRC.ipynb                    MLOps.ipynb\n",
      "04_Install_AWS.ipynb                    OCP_References.ipynb\n",
      "05_Install_Azure.ipynb                  Operator_Basics.ipynb\n",
      "06_Install_GCP.ipynb                    PeopleOps.ipynb\n",
      "07_After_Install.ipynb                  README.md\n",
      "08_Designing_Experiments.ipynb          Untitled.ipynb\n",
      "AIOps.ipynb                             \u001b[34mcode\u001b[m\u001b[m/\n",
      "CloudOps.ipynb                          \u001b[34mimages\u001b[m\u001b[m/\n",
      "DataOps.ipynb\n"
     ]
    }
   ],
   "source": [
    "ls"
   ]
  },
  {
   "cell_type": "code",
   "execution_count": 2,
   "id": "present-cooperative",
   "metadata": {},
   "outputs": [
    {
     "name": "stdout",
     "output_type": "stream",
     "text": [
      "/Users/jsr/Documents/GitHub/Open_Container_Platform/code\n"
     ]
    }
   ],
   "source": [
    "cd code"
   ]
  },
  {
   "cell_type": "code",
   "execution_count": 3,
   "id": "indonesian-scanner",
   "metadata": {},
   "outputs": [
    {
     "name": "stdout",
     "output_type": "stream",
     "text": [
      "hello.go\n"
     ]
    }
   ],
   "source": [
    "ls"
   ]
  },
  {
   "cell_type": "code",
   "execution_count": 6,
   "id": "irish-metallic",
   "metadata": {},
   "outputs": [
    {
     "name": "stdout",
     "output_type": "stream",
     "text": [
      "hello.go:5:8: cannot find package \"rsc.io/quote\" in any of:\n",
      "\t/usr/local/Cellar/go/1.15.7_1/libexec/src/rsc.io/quote (from $GOROOT)\n",
      "\t/Users/jsr/go/src/rsc.io/quote (from $GOPATH)\n"
     ]
    }
   ],
   "source": [
    "!go run ."
   ]
  },
  {
   "cell_type": "code",
   "execution_count": 7,
   "id": "introductory-vanilla",
   "metadata": {},
   "outputs": [
    {
     "name": "stdout",
     "output_type": "stream",
     "text": [
      "Go is a tool for managing Go source code.\n",
      "\n",
      "Usage:\n",
      "\n",
      "\tgo <command> [arguments]\n",
      "\n",
      "The commands are:\n",
      "\n",
      "\tbug         start a bug report\n",
      "\tbuild       compile packages and dependencies\n",
      "\tclean       remove object files and cached files\n",
      "\tdoc         show documentation for package or symbol\n",
      "\tenv         print Go environment information\n",
      "\tfix         update packages to use new APIs\n",
      "\tfmt         gofmt (reformat) package sources\n",
      "\tgenerate    generate Go files by processing source\n",
      "\tget         download and install packages and dependencies\n",
      "\tinstall     compile and install packages and dependencies\n",
      "\tlist        list packages or modules\n",
      "\tmod         module maintenance\n",
      "\trun         compile and run Go program\n",
      "\ttest        test packages\n",
      "\ttool        run specified go tool\n",
      "\tversion     print Go version\n",
      "\tvet         report likely mistakes in packages\n",
      "\n",
      "Use \"go help <command>\" for more information about a command.\n",
      "\n",
      "Additional help topics:\n",
      "\n",
      "\tbuildconstraint build constraints\n",
      "\tbuildmode       build modes\n",
      "\tc               calling between Go and C\n",
      "\tcache           build and test caching\n",
      "\tenvironment     environment variables\n",
      "\tfiletype        file types\n",
      "\tgo.mod          the go.mod file\n",
      "\tgopath          GOPATH environment variable\n",
      "\tgopath-get      legacy GOPATH go get\n",
      "\tgoproxy         module proxy protocol\n",
      "\timportpath      import path syntax\n",
      "\tmodules         modules, module versions, and more\n",
      "\tmodule-get      module-aware go get\n",
      "\tmodule-auth     module authentication using go.sum\n",
      "\tmodule-private  module configuration for non-public modules\n",
      "\tpackages        package lists and patterns\n",
      "\ttestflag        testing flags\n",
      "\ttestfunc        testing functions\n",
      "\n",
      "Use \"go help <topic>\" for more information about that topic.\n",
      "\n"
     ]
    }
   ],
   "source": [
    "!go help"
   ]
  },
  {
   "cell_type": "code",
   "execution_count": 8,
   "id": "robust-installation",
   "metadata": {},
   "outputs": [
    {
     "name": "stdout",
     "output_type": "stream",
     "text": [
      "go: creating new go.mod: module hello\n"
     ]
    }
   ],
   "source": [
    "!go mod init hello"
   ]
  },
  {
   "cell_type": "code",
   "execution_count": 9,
   "id": "registered-province",
   "metadata": {},
   "outputs": [
    {
     "name": "stdout",
     "output_type": "stream",
     "text": [
      "go: finding module for package rsc.io/quote\n",
      "go: found rsc.io/quote in rsc.io/quote v1.5.2\n",
      "Don't communicate by sharing memory, share memory by communicating.\n"
     ]
    }
   ],
   "source": [
    "!go run ."
   ]
  },
  {
   "cell_type": "code",
   "execution_count": null,
   "id": "sudden-burns",
   "metadata": {},
   "outputs": [],
   "source": []
  }
 ],
 "metadata": {
  "kernelspec": {
   "display_name": "Python 3",
   "language": "python",
   "name": "python3"
  },
  "language_info": {
   "codemirror_mode": {
    "name": "ipython",
    "version": 3
   },
   "file_extension": ".py",
   "mimetype": "text/x-python",
   "name": "python",
   "nbconvert_exporter": "python",
   "pygments_lexer": "ipython3",
   "version": "3.7.4"
  }
 },
 "nbformat": 4,
 "nbformat_minor": 5
}
