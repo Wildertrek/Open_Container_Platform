{
 "cells": [
  {
   "cell_type": "markdown",
   "metadata": {},
   "source": [
    "## Code Ready Containers\n",
    "\n",
    "1. [Download latest CRC for your OS](https://cloud.redhat.com/openshift/install/crc/installer-provisioned?intcmp=7013a000002CtetAAC)\n",
    "2. Pull Secret\n",
    "3. [Follow the documentation to install CodeReady containers](https://access.redhat.com/documentation/en-us/red_hat_codeready_containers/1.21/)\n",
    "4. Run the ```crc setup``` command to set up your host operating system for the CodeReady Containers virtual machine.\n",
    "\n",
    "\n",
    "### Configuring the virtual machine\n",
    "Use the cpus and memory properties to configure the default number of vCPUs and amount of memory available to the CodeReady Containers virtual machine, respectively.\n",
    "\n",
    "Alternatively, the number of vCPUs and amount of memory can be assigned using the ```--cpus``` and ```--memory``` flags to the crc start command, respectively.\n",
    "- To configure the number of vCPUs available to the virtual machine: ``` $ crc config set cpus <number> ``` \n",
    "\n",
    "NOTE: The default value for the cpus property is 4, the number of vCPUs to assign must be greater than or equal to the default.\n",
    "\n",
    "- To start the virtual machine with the desired number of vCPUs: ``` $ crc start --cpus <number> ```\n",
    "\n",
    "- To configure the memory available to the virtual machine: ``` $ crc config set memory <number-in-mib> ```\n",
    "\n",
    "NOTE: Values for available memory are set in mebibytes (MiB). One gibibyte (GiB) of memory is equal to 1024 MiB.\n",
    "\n",
    "The default value for the memory property is 9216. The amount of memory to assign must be greater than or equal to the default.\n",
    "\n",
    "- To start the virtual machine with the desired amount of memory: ``` $ crc start --memory <number-in-mib> ```\n",
    "\n",
    "So, if you have a descent compute with lots of memory and cpus then you could ``` crc start --cpus 10 --memory 32000 ```\n",
    "\n",
    "5. Then, the ```crc start``` will create a minimal OpenShift 4 cluster on your laptop or desktop computer.\n",
    "\n",
    "check out ``` crc start -h ``` for various available switches\n",
    "\n",
    "``` crc start -c 10 -m 32000 -p ./pull-secrets/crc-pull-secret.txt ```\n",
    "\n",
    "To access the cluster, first set up your environment by following the instructions returned by executing 'crc oc-env'.\n",
    "\n",
    "Then you can access your cluster by running ```oc login -u developer -p developer https://api.crc.testing:6443```\n",
    "\n",
    "To login as a cluster admin, run ``` oc login -u kubeadmin -p xxxxx-xxxxx-xxxxx-xxxxx https://api.crc.testing:6443```\n",
    "\n",
    "\n",
    "\n",
    "\n",
    "\n"
   ]
  },
  {
   "cell_type": "markdown",
   "metadata": {},
   "source": [
    "<img src=\"./images/crc.png\" align=\"left\" alt=\"CRC image\" width = \"800\">"
   ]
  }
 ],
 "metadata": {
  "kernelspec": {
   "display_name": "Python 3",
   "language": "python",
   "name": "python3"
  },
  "language_info": {
   "codemirror_mode": {
    "name": "ipython",
    "version": 3
   },
   "file_extension": ".py",
   "mimetype": "text/x-python",
   "name": "python",
   "nbconvert_exporter": "python",
   "pygments_lexer": "ipython3",
   "version": "3.7.4"
  }
 },
 "nbformat": 4,
 "nbformat_minor": 4
}
