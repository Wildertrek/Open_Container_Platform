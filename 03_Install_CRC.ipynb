{
 "cells": [
  {
   "cell_type": "markdown",
   "metadata": {},
   "source": [
    "## Code Ready Containers\n",
    "\n",
    "1. [Download latest CRC for your OS](https://cloud.redhat.com/openshift/install/crc/installer-provisioned?intcmp=7013a000002CtetAAC)\n",
    "2. Click on Sandbox to download and install on your localmachine\n",
    "2. next Pull Secret because you'll need that file for installation\n",
    "3. [Follow the documentation to install CodeReady containers](https://access.redhat.com/documentation/en-us/red_hat_codeready_containers/1.21/)\n",
    "4. Run the ```crc setup``` command to set up your host operating system for the CodeReady Containers virtual machine.\n",
    "\n",
    "\n",
    "### Configuring the virtual machine\n",
    "Use the cpus and memory properties to configure the default number of vCPUs and amount of memory available to the CodeReady Containers virtual machine, respectively.\n",
    "\n",
    "Alternatively, the number of vCPUs and amount of memory can be assigned using the ```--cpus``` and ```--memory``` flags to the crc start command, respectively.\n",
    "- To configure the number of vCPUs available to the virtual machine: ``` $ crc config set cpus <number> ``` \n",
    "\n",
    "NOTE: The default value for the cpus property is 4, the number of vCPUs to assign must be greater than or equal to the default.\n",
    "\n",
    "- To start the virtual machine with the desired number of vCPUs: ``` $ crc start --cpus <number> ```\n",
    "\n",
    "- To configure the memory available to the virtual machine: ``` $ crc config set memory <number-in-mib> ```\n",
    "\n",
    "NOTE: Values for available memory are set in mebibytes (MiB). One gibibyte (GiB) of memory is equal to 1024 MiB.\n",
    "\n",
    "The default value for the memory property is 9216. The amount of memory to assign must be greater than or equal to the default.\n",
    "\n",
    "- To start the virtual machine with the desired amount of memory: ``` $ crc start --memory <number-in-mib> ```\n",
    "\n",
    "So, if you have a descent compute with lots of memory and cpus then you could ``` crc start --cpus 10 --memory 32000 ```\n",
    "\n",
    "5. Then, the ```crc start``` will create a minimal OpenShift 4 cluster on your laptop or desktop computer.\n",
    "\n",
    "check out ``` crc start -h ``` for various available switches\n",
    "\n",
    "``` crc start -c 10 -m 32000 -p ./pull-secrets/crc-pull-secret.txt ```\n",
    "\n",
    "To access the cluster, first set up your environment by following the instructions returned by executing 'crc oc-env'.\n",
    "\n",
    "Then you can access your cluster by running ```oc login -u developer -p developer https://api.crc.testing:6443```\n",
    "\n",
    "To login as a cluster admin, run ``` oc login -u kubeadmin -p xxxxx-xxxxx-xxxxx-xxxxx https://api.crc.testing:6443```\n",
    "\n",
    "If you closed your terminal and need to find your kubeadmin password again, run ``` crc console --credentials ```\n",
    "\n",
    "\n",
    "\n",
    "\n",
    "\n"
   ]
  },
  {
   "cell_type": "markdown",
   "metadata": {},
   "source": [
    "<img src=\"./images/crc.png\" align=\"left\" alt=\"CRC image\" width = \"800\">"
   ]
  },
  {
   "cell_type": "markdown",
   "metadata": {},
   "source": [
    "Once you have CRC up and running, lets go back to the terminal and run some basic commands\n",
    "\n",
    "``` crc -h ```\n",
    "\n",
    "``` \n",
    "CodeReady Containers is a tool that manages a local OpenShift 4.x cluster optimized for testing and development purposes\n",
    "\n",
    "Usage:\n",
    "  crc [flags]\n",
    "  crc [command]\n",
    "\n",
    "Available Commands:\n",
    "  cleanup     Undo config changes\n",
    "  config      Modify crc configuration\n",
    "  console     Open the OpenShift Web Console in the default browser\n",
    "  delete      Delete the OpenShift cluster\n",
    "  help        Help about any command\n",
    "  ip          Get IP address of the running OpenShift cluster\n",
    "  oc-env      Add the 'oc' executable to PATH\n",
    "  podman-env  Setup podman environment\n",
    "  setup       Set up prerequisites for the OpenShift cluster\n",
    "  start       Start the OpenShift cluster\n",
    "  status      Display status of the OpenShift cluster\n",
    "  stop        Stop the OpenShift cluster\n",
    "  version     Print version information\n",
    "\n",
    "Flags:\n",
    "  -h, --help               help for crc\n",
    "      --log-level string   log level (e.g. \"debug | info | warn | error\") (default \"info\")\n",
    "\n",
    "Use \"crc [command] --help\" for more information about a command.\n",
    "```"
   ]
  },
  {
   "cell_type": "markdown",
   "metadata": {},
   "source": [
    "``` crc status ```\n",
    "\n",
    "```\n",
    "CRC VM:          Running\n",
    "OpenShift:       Running (v4.6.9)\n",
    "Disk Usage:      20.43GB of 32.72GB (Inside the CRC VM)\n",
    "Cache Usage:     27.4GB\n",
    "Cache Directory: /Users/jsr/.crc/cache\n",
    "```"
   ]
  },
  {
   "cell_type": "markdown",
   "metadata": {},
   "source": [
    "as you can see we see that the CRC VM is Running, which version OpenShift, Disc Usage, Cache Usage and the Cache Directory"
   ]
  },
  {
   "cell_type": "markdown",
   "metadata": {},
   "source": [
    "``` crc config view ```\n",
    "\n",
    "```\n",
    "- consent-telemetry                     : no\n",
    "- cpus                                  : 10\n",
    "- memory                                : 32000\n",
    "```\n",
    "\n",
    "Here with the config view we can see how many cpus and how much memory we have enabled for this CRC"
   ]
  },
  {
   "cell_type": "code",
   "execution_count": null,
   "metadata": {},
   "outputs": [],
   "source": []
  }
 ],
 "metadata": {
  "kernelspec": {
   "display_name": "Python 3",
   "language": "python",
   "name": "python3"
  },
  "language_info": {
   "codemirror_mode": {
    "name": "ipython",
    "version": 3
   },
   "file_extension": ".py",
   "mimetype": "text/x-python",
   "name": "python",
   "nbconvert_exporter": "python",
   "pygments_lexer": "ipython3",
   "version": "3.7.4"
  }
 },
 "nbformat": 4,
 "nbformat_minor": 4
}
