{
 "cells": [
  {
   "cell_type": "markdown",
   "id": "emotional-laser",
   "metadata": {},
   "source": [
    "## Designing Experiments\n",
    "\n",
    "1. Research areas of research that seeks to measure AI/ML capabilities and results (ex. http://ctuning.org/)\n",
    "2. The [Collective Knowledge platform](https://cknowledge.io/) to share knowledge about how to design, benchmark, optimize and use complex computational systems in the form of reusable, portable and customizable workflows, automation actions, unified components, and public SOTA scoreboards;\n",
    "3. [Artifact Appendix and the reproducibility checklist](https://ctuning.org/ae/submission_extra.html) to unify artifact submission at ML&systems conferences;\n",
    "4. [Artifact Evaluation](https://ctuning.org/ae) to reproduce results from research papers and compare them using public SOTA scoreboards;\n",
    "5. [MLPerf benchmark](https://mlcommons.org/en/) see [MLPerf automation demo](https://cknowledge.io/demo);\n",
    "6. [Reproducible deep learning co-design tournaments](https://cknowledge.org/request)."
   ]
  },
  {
   "cell_type": "code",
   "execution_count": null,
   "id": "surprised-movement",
   "metadata": {},
   "outputs": [],
   "source": []
  }
 ],
 "metadata": {
  "kernelspec": {
   "display_name": "Python 3",
   "language": "python",
   "name": "python3"
  },
  "language_info": {
   "codemirror_mode": {
    "name": "ipython",
    "version": 3
   },
   "file_extension": ".py",
   "mimetype": "text/x-python",
   "name": "python",
   "nbconvert_exporter": "python",
   "pygments_lexer": "ipython3",
   "version": "3.7.4"
  }
 },
 "nbformat": 4,
 "nbformat_minor": 5
}
