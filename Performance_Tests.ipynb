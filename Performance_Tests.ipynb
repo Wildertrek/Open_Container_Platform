{
 "cells": [
  {
   "cell_type": "markdown",
   "id": "suspended-priest",
   "metadata": {},
   "source": [
    "## Performance Tests"
   ]
  },
  {
   "cell_type": "code",
   "execution_count": 27,
   "id": "protecting-bowling",
   "metadata": {},
   "outputs": [
    {
     "name": "stdout",
     "output_type": "stream",
     "text": [
      "TOTAL TIME = 145 seconds\n"
     ]
    }
   ],
   "source": [
    "# SOURCE: https://gist.github.com/daradecic/2156de71da23d2d8e8af47eea2d47156#file-macs-py\n",
    "\n",
    "from datetime import datetime\n",
    "import random\n",
    "\n",
    "time_start = datetime.now()\n",
    "\n",
    "l = [random.randrange(100, 999) for i in range(100000000)]\n",
    "\n",
    "squared = [x**2 for x in l]\n",
    "sqrt = [x**0.5 for x in l]\n",
    "mul = [x * y for x, y in zip(squared, sqrt)]\n",
    "div = [x / y for x, y in zip(squared, sqrt)]\n",
    "int_div = [x // y for x, y in zip(squared, sqrt)]\n",
    "\n",
    "time_end = datetime.now()\n",
    "print(f'TOTAL TIME = {(time_end - time_start).seconds} seconds')"
   ]
  },
  {
   "cell_type": "code",
   "execution_count": 24,
   "id": "communist-afternoon",
   "metadata": {},
   "outputs": [
    {
     "name": "stdout",
     "output_type": "stream",
     "text": [
      "Dotted two 4096x4096 matrices in 0.13 s.\n",
      "Dotted two vectors of length 524288 in 0.02 ms.\n",
      "SVD of a 2048x1024 matrix in 0.27 s.\n",
      "Cholesky decomposition of a 2048x2048 matrix in 0.08 s.\n",
      "Eigendecomposition of a 2048x2048 matrix in 3.18 s.\n",
      "\n",
      "TOTAL TIME = 13 seconds\n"
     ]
    }
   ],
   "source": [
    "# SOURCE: https://gist.github.com/markus-beuckelmann/8bc25531b11158431a5b09a45abd6276\n",
    "\n",
    "import numpy as np\n",
    "from time import time\n",
    "from datetime import datetime\n",
    "\n",
    "start_time = datetime.now()\n",
    "\n",
    "# Let's take the randomness out of random numbers (for reproducibility)\n",
    "np.random.seed(0)\n",
    "\n",
    "size = 4096\n",
    "A, B = np.random.random((size, size)), np.random.random((size, size))\n",
    "C, D = np.random.random((size * 128,)), np.random.random((size * 128,))\n",
    "E = np.random.random((int(size / 2), int(size / 4)))\n",
    "F = np.random.random((int(size / 2), int(size / 2)))\n",
    "F = np.dot(F, F.T)\n",
    "G = np.random.random((int(size / 2), int(size / 2)))\n",
    "\n",
    "# Matrix multiplication\n",
    "N = 20\n",
    "t = time()\n",
    "for i in range(N):\n",
    "    np.dot(A, B)\n",
    "delta = time() - t\n",
    "print('Dotted two %dx%d matrices in %0.2f s.' % (size, size, delta / N))\n",
    "del A, B\n",
    "\n",
    "# Vector multiplication\n",
    "N = 5000\n",
    "t = time()\n",
    "for i in range(N):\n",
    "    np.dot(C, D)\n",
    "delta = time() - t\n",
    "print('Dotted two vectors of length %d in %0.2f ms.' % (size * 128, 1e3 * delta / N))\n",
    "del C, D\n",
    "\n",
    "# Singular Value Decomposition (SVD)\n",
    "N = 3\n",
    "t = time()\n",
    "for i in range(N):\n",
    "    np.linalg.svd(E, full_matrices = False)\n",
    "delta = time() - t\n",
    "print(\"SVD of a %dx%d matrix in %0.2f s.\" % (size / 2, size / 4, delta / N))\n",
    "del E\n",
    "\n",
    "# Cholesky Decomposition\n",
    "N = 3\n",
    "t = time()\n",
    "for i in range(N):\n",
    "    np.linalg.cholesky(F)\n",
    "delta = time() - t\n",
    "print(\"Cholesky decomposition of a %dx%d matrix in %0.2f s.\" % (size / 2, size / 2, delta / N))\n",
    "\n",
    "# Eigendecomposition\n",
    "t = time()\n",
    "for i in range(N):\n",
    "    np.linalg.eig(G)\n",
    "delta = time() - t\n",
    "print(\"Eigendecomposition of a %dx%d matrix in %0.2f s.\" % (size / 2, size / 2, delta / N))\n",
    "\n",
    "print('')\n",
    "end_time = datetime.now()\n",
    "print(f'TOTAL TIME = {(end_time - start_time).seconds} seconds')"
   ]
  },
  {
   "cell_type": "code",
   "execution_count": 25,
   "id": "processed-batman",
   "metadata": {},
   "outputs": [
    {
     "name": "stdout",
     "output_type": "stream",
     "text": [
      "Total time = 83 seconds\n"
     ]
    }
   ],
   "source": [
    "# SOURCE: https://gist.github.com/daradecic/8a9a04ec7b964be3bd06a09cdb17559e#file-macs-py\n",
    "\n",
    "import numpy as np\n",
    "import pandas as pd\n",
    "from datetime import datetime\n",
    "\n",
    "time_start = datetime.now()\n",
    "\n",
    "df = pd.DataFrame()\n",
    "df['X'] = np.random.randint(low=100, high=999, size=100000000)\n",
    "df['X_squared'] = df['X'].apply(lambda x: x**2)\n",
    "df['X_sqrt'] = df['X'].apply(lambda x: x**0.5)\n",
    "df['Mul'] = df['X_squared'] * df['X_sqrt']\n",
    "df['Div'] = df['X_squared'] / df['X_sqrt']\n",
    "df['Int_div'] = df['X_squared'] // df['X_sqrt']\n",
    "\n",
    "time_end = datetime.now()\n",
    "print(f'Total time = {(time_end - time_start).seconds} seconds')"
   ]
  },
  {
   "cell_type": "code",
   "execution_count": 26,
   "id": "insured-morocco",
   "metadata": {},
   "outputs": [
    {
     "name": "stdout",
     "output_type": "stream",
     "text": [
      "Dataset loaded, runtime = 0 seconds\n",
      "Train/test split, runtime = 0 seconds\n",
      "Hyperparameter optimization, runtime = 40 seconds\n",
      "\n",
      "TOTAL RUNTIME = 40 seconds\n"
     ]
    }
   ],
   "source": [
    "# SOURCE: https://gist.github.com/daradecic/1b1fb5b8beb01b0e54dfbb0867502312#file-macs-py\n",
    "\n",
    "from sklearn.tree import DecisionTreeClassifier\n",
    "from sklearn.model_selection import train_test_split, GridSearchCV\n",
    "from sklearn.metrics import accuracy_score, confusion_matrix\n",
    "\n",
    "time_start = datetime.now()\n",
    "\n",
    "# Dataset\n",
    "iris = pd.read_csv('https://gist.githubusercontent.com/curran/a08a1080b88344b0c8a7/raw/0e7a9b0a5d22642a06d3d5b9bcbad9890c8ee534/iris.csv')\n",
    "time_load = datetime.now()\n",
    "print(f'Dataset loaded, runtime = {(time_load - time_start).seconds} seconds')\n",
    "\n",
    "# Train/Test split\n",
    "X = iris.drop('species', axis=1)\n",
    "y = iris['species']\n",
    "X_train, X_test, y_train, y_test = train_test_split(X, y, test_size=0.25)\n",
    "time_split = datetime.now()\n",
    "print(f'Train/test split, runtime = {(time_split - time_start).seconds} seconds')\n",
    "\n",
    "# Hyperparameter tuning\n",
    "model = DecisionTreeClassifier()\n",
    "params = {\n",
    "    'criterion': ['gini', 'entropy'],\n",
    "    'splitter': ['best', 'random'],\n",
    "    'max_depth': [1, 5, 10, 50, 100, 250, 500, 1000],\n",
    "    'min_samples_split': [2, 5, 10, 15, 20],\n",
    "    'min_samples_leaf': [1, 2, 3, 4, 5],\n",
    "    'max_features': ['auto', 'sqrt', 'log2']\n",
    "}\n",
    "clf = GridSearchCV(\n",
    "    estimator=model, \n",
    "    param_grid=params, \n",
    "    cv=5\n",
    ")\n",
    "clf.fit(X_train, y_train)\n",
    "time_optim = datetime.now()\n",
    "print(f'Hyperparameter optimization, runtime = {(time_optim - time_start).seconds} seconds')\n",
    "\n",
    "best_model = DecisionTreeClassifier(**clf.best_params_)\n",
    "best_model.fit(X_train, y_train)\n",
    "\n",
    "time_end = datetime.now()\n",
    "print()\n",
    "print(f'TOTAL RUNTIME = {(time_end - time_start).seconds} seconds')"
   ]
  },
  {
   "cell_type": "code",
   "execution_count": null,
   "id": "raised-column",
   "metadata": {},
   "outputs": [],
   "source": []
  }
 ],
 "metadata": {
  "kernelspec": {
   "display_name": "Python 3",
   "language": "python",
   "name": "python3"
  },
  "language_info": {
   "codemirror_mode": {
    "name": "ipython",
    "version": 3
   },
   "file_extension": ".py",
   "mimetype": "text/x-python",
   "name": "python",
   "nbconvert_exporter": "python",
   "pygments_lexer": "ipython3",
   "version": "3.7.4"
  }
 },
 "nbformat": 4,
 "nbformat_minor": 5
}
