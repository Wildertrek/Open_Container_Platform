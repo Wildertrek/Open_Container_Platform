{
 "cells": [
  {
   "cell_type": "markdown",
   "metadata": {},
   "source": [
    "## Kubernetes Architecture\n",
    "[Kubernetes](https://kubernetes.io/docs/home/) architecture at a high level is relatively straightforward.  It is composed of a master node and a set of worker nodes.  The nodes can be either physical servers or virtual machines (VMs).  Users of the Kubernetes environment interact with the master node using either a command- line interface (kubectl), an application programming interface (API), or a graphical user interface (GUI).  The master node is responsible for scheduling work across the worker nodes.   In Kubernetes, the unit of work that is scheduled is called a Pod, and a Pod can hold one or more containers. The [primary components](https://kubernetes.io/docs/concepts/overview/components/) that exist on the master node are the kube-apiserver, kube-scheduler,  etcd, and the kube-controller-manager:\n",
    "\n",
    "### kube-apiserver\n",
    "The [kube-apiserver](https://kubernetes.io/docs/reference/command-line-tools-reference/kube-apiserver/) makes available the Kubernetes API that is used to operate the Kubernetes environment.\n",
    "\n",
    "### kube-scheduler\n",
    "The [kube-scheduler](https://kubernetes.io/docs/reference/command-line-tools-reference/kube-scheduler/) component is responsible for selecting the nodes on which Pods should be created.  \n",
    "\n",
    "### kube-controller-manager\n",
    "Kubernetes provides several high-level abstractions for supporting replicas of Pods, managing nodes, and so on.   Each of these is implemented with a controller component, which we describe later in this chapter.  The [kube-controller-manager](https://kubernetes.io/docs/reference/command-line-tools-reference/kube-controller-manager/) is responsible for managing and running controller components. \n",
    "\n",
    "### etcd\n",
    "The etcd component is a distributed key–value store and is the [primary data store](https://etcd.io/docs/v3.4.0/learning/data_model/) of the Kubernetes control plane. This component stores and replicates all the critical information state of your Kubernetes environment. The key feature of etcd is its ability to support a watch. A watch is an RPC mechanism that allows for callbacks to functions upon key-value create, update, or delete operations. Kubernetes outstanding performance and scalability characteristics are dependent on etcd being a highly efficient data storage mechanism. \n",
    "\n",
    "The worker nodes are responsible for running the pods that are scheduled on them.  The [primary Kubernetes components](https://kubernetes.io/docs/concepts/overview/components/) that exist on [worker nodes](https://kubernetes.io/docs/concepts/overview/components/#node-components) are the kubelet, kube-proxy, and the container runtime:\n",
    "\n",
    "### kubelet\n",
    "The [kubelet](https://kubernetes.io/docs/reference/command-line-tools-reference/kubelet/) is responsible for making sure that the containers in each pod are created and stay up and running.  The kubelet will restart containers upon recognizing that they have terminated unexpectedly or failed other health checks defined by the user.\n",
    "\n",
    "### kube-proxy\n",
    "One of Kubernetes key strengths is the networking support it implements for containers.  The [kube-proxy](https://kubernetes.io/docs/reference/command-line-tools-reference/kube-proxy/) component provides networking support in the form of connection forwarding, load balancing, and the mapping of  a single IP address to a pod. Kube-proxy is unique in that it provides a distributed load balancing capability that is critical to the high availability architecture of Kubernetes.\n",
    "\n",
    "### Container runtime\n",
    "The container runtime component is responsible for running the containers that exist in each pod.  Kubernetes supports several [container runtime environment options](https://kubernetes.io/docs/setup/production-environment/container-runtimes/) including Docker, rkt, CRI-O, and containerd."
   ]
  },
  {
   "cell_type": "code",
   "execution_count": null,
   "metadata": {},
   "outputs": [],
   "source": []
  }
 ],
 "metadata": {
  "kernelspec": {
   "display_name": "Python 3",
   "language": "python",
   "name": "python3"
  },
  "language_info": {
   "codemirror_mode": {
    "name": "ipython",
    "version": 3
   },
   "file_extension": ".py",
   "mimetype": "text/x-python",
   "name": "python",
   "nbconvert_exporter": "python",
   "pygments_lexer": "ipython3",
   "version": "3.7.4"
  }
 },
 "nbformat": 4,
 "nbformat_minor": 4
}
