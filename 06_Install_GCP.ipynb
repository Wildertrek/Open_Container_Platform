{
 "cells": [
  {
   "cell_type": "markdown",
   "metadata": {},
   "source": [
    "## Installing OCP on GCP\n",
    "\n",
    "\n",
    "0. Ensure you're set up with [gcloud CLI](https://cloud.google.com/sdk/docs/quickstart) and connect to your GCP project\n",
    "\n",
    "\n",
    "1. Start with OCP GCP [installation docs](https://access.redhat.com/documentation/en-us/openshift_container_platform/4.6/html/installing_on_gcp/installing-on-gcp)\n",
    " - 1.1.   [Configuring a GCP project](https://access.redhat.com/documentation/en-us/openshift_container_platform/4.6/html/installing_on_gcp/installing-on-gcp#installing-gcp-account)\n",
    " - 1.1.1. [Creating a GCP project](https://access.redhat.com/documentation/en-us/openshift_container_platform/4.6/html/installing_on_gcp/installing-on-gcp#installation-gcp-project_installing-gcp-account)\n",
    " - 1.1.2. [Enabling API services in GCP](https://access.redhat.com/documentation/en-us/openshift_container_platform/4.6/html/installing_on_gcp/installing-on-gcp#installation-gcp-enabling-api-services_installing-gcp-account)\n",
    " - 1.1.3. [Configuring DNS for GCP](https://access.redhat.com/documentation/en-us/openshift_container_platform/4.6/html/installing_on_gcp/installing-on-gcp#installation-gcp-dns_installing-gcp-account)\n",
    " - 1.1.4. [GCP account limits](https://access.redhat.com/documentation/en-us/openshift_container_platform/4.6/html/installing_on_gcp/installing-on-gcp#installation-gcp-limits_installing-gcp-account)\n",
    " - 1.1.5. [Creating a service account in GCP](https://access.redhat.com/documentation/en-us/openshift_container_platform/4.6/html/installing_on_gcp/installing-on-gcp#installation-gcp-service-account_installing-gcp-account)\n",
    " - 1.1.6. [Supported GCP regions](https://access.redhat.com/documentation/en-us/openshift_container_platform/4.6/html/installing_on_gcp/installing-on-gcp#installation-gcp-regions_installing-gcp-account)\n",
    " - 1.1.7. [Next steps](https://access.redhat.com/documentation/en-us/openshift_container_platform/4.6/html/installing_on_gcp/installing-on-gcp#next-steps)\n",
    "\n",
    "```VERY IMPORTANT: When creating a service account and when you pull down your projectname.json file, save as osServiceAccount.json and place into ~/.gcp/osServiceAccount.json```\n",
    "\n",
    "2. Skip section 1.2 and go to section 1.3\n",
    "\n",
    " - 1.3. [Installing a cluster quickly on GCP](https://access.redhat.com/documentation/en-us/openshift_container_platform/4.6/html/installing_on_gcp/installing-on-gcp#installing-gcp-default)\n",
    " - 1.3.1. [Prerequisites](https://access.redhat.com/documentation/en-us/openshift_container_platform/4.6/html/installing_on_gcp/installing-on-gcp#prerequisites)\n",
    " - 1.3.2. [Internet and Telemetry access for OpenShift Container Platform](https://access.redhat.com/documentation/en-us/openshift_container_platform/4.6/html/installing_on_gcp/installing-on-gcp#cluster-entitlements_installing-gcp-default)\n",
    " - 1.3.3. [Generating an SSH private key and adding it to the agent](https://access.redhat.com/documentation/en-us/openshift_container_platform/4.6/html/installing_on_gcp/installing-on-gcp#ssh-agent-using_installing-gcp-default)\n",
    " - 1.3.4. [Obtaining the installation program](https://access.redhat.com/documentation/en-us/openshift_container_platform/4.6/html/installing_on_gcp/installing-on-gcp#installation-obtaining-installer_installing-gcp-default)\n",
    " - 1.3.5. [Deploying the cluster](https://access.redhat.com/documentation/en-us/openshift_container_platform/4.6/html/installing_on_gcp/installing-on-gcp#installation-launching-installer_installing-gcp-default)\n",
    " - 1.3.6. [Installing the CLI by downloading the binary](https://access.redhat.com/documentation/en-us/openshift_container_platform/4.6/html/installing_on_gcp/installing-on-gcp#cli-installing-cli_installing-gcp-default)\n",
    " - 1.3.7. [Logging in to the cluster by using the CLI](https://access.redhat.com/documentation/en-us/openshift_container_platform/4.6/html/installing_on_gcp/installing-on-gcp#cli-logging-in-kubeadmin_installing-gcp-default)\n",
    " - 1.3.8. [Next steps](https://access.redhat.com/documentation/en-us/openshift_container_platform/4.6/html/installing_on_gcp/installing-on-gcp#next-steps-2)\n",
    "\n",
    "- ``` ./openshift-install create cluster --dir=install-configs-gcp --log-level=info ```\n",
    "- ``` ./openshift-install destroy cluster --dir=install-configs-gcp --log-level=info ```\n",
    "\n",
    "\n",
    "\n",
    "\n",
    "\n",
    "\n",
    "\n",
    "\n",
    "\n"
   ]
  },
  {
   "cell_type": "markdown",
   "metadata": {},
   "source": [
    "<img src=\"./images/ocp-gcp.png\" align=\"left\" alt=\"CRC image\" width = \"800\">"
   ]
  }
 ],
 "metadata": {
  "kernelspec": {
   "display_name": "Python 3",
   "language": "python",
   "name": "python3"
  },
  "language_info": {
   "codemirror_mode": {
    "name": "ipython",
    "version": 3
   },
   "file_extension": ".py",
   "mimetype": "text/x-python",
   "name": "python",
   "nbconvert_exporter": "python",
   "pygments_lexer": "ipython3",
   "version": "3.7.4"
  }
 },
 "nbformat": 4,
 "nbformat_minor": 4
}
